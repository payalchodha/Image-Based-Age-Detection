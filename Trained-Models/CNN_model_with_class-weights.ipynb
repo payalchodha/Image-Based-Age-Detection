{
 "cells": [
  {
   "cell_type": "code",
   "execution_count": 1,
   "metadata": {},
   "outputs": [],
   "source": [
    "# pip install opencv-python"
   ]
  },
  {
   "cell_type": "code",
   "execution_count": 1,
   "metadata": {},
   "outputs": [],
   "source": [
    "from PIL import Image #importing the python image library for PIL\n",
    "import os,cv2\n",
    "import random\n",
    "import numpy as np\n",
    "import pandas as pd\n",
    "from scipy import misc \n",
    "import matplotlib.image as mpimg\n",
    "\n",
    "from tensorflow.python.keras.models import Sequential\n",
    "from tensorflow.python.keras.layers import Dense, Dropout, Flatten, Conv2D, MaxPooling2D,InputLayer"
   ]
  },
  {
   "cell_type": "code",
   "execution_count": 13,
   "metadata": {},
   "outputs": [],
   "source": [
    "root_dir = os.path.abspath('.')\n",
    "data_dir_test = './datasets/misctest'\n",
    "data_dir = './datasets/misctrain'\n",
    "train = pd.read_csv(os.path.join(data_dir, 'train.csv'))\n",
    "test = pd.read_csv(os.path.join(data_dir_test, 'test.csv'))"
   ]
  },
  {
   "cell_type": "code",
   "execution_count": 18,
   "metadata": {},
   "outputs": [
    {
     "name": "stderr",
     "output_type": "stream",
     "text": [
      "/Users/payalchodha/anaconda3/lib/python3.7/site-packages/ipykernel_launcher.py:7: DeprecationWarning: `imread` is deprecated!\n",
      "`imread` is deprecated in SciPy 1.0.0, and will be removed in 1.2.0.\n",
      "Use ``imageio.imread`` instead.\n",
      "  import sys\n",
      "/Users/payalchodha/anaconda3/lib/python3.7/site-packages/ipykernel_launcher.py:8: DeprecationWarning: `imresize` is deprecated!\n",
      "`imresize` is deprecated in SciPy 1.0.0, and will be removed in 1.2.0.\n",
      "Use ``skimage.transform.resize`` instead.\n",
      "  \n"
     ]
    }
   ],
   "source": [
    "from scipy.misc import imresize\n",
    "from scipy.misc import imread\n",
    "\n",
    "temp = []\n",
    "for img_name in train.ID:\n",
    "    img_path = os.path.join(data_dir, 'Train', img_name)\n",
    "    img = imread(img_path,mode='L')\n",
    "    img = imresize(img, (64, 64))\n",
    "    img = img.astype('float32') # this will help us in later stage\n",
    "    temp.append(img)\n",
    "\n",
    "train_x = np.stack(temp)"
   ]
  },
  {
   "cell_type": "code",
   "execution_count": 19,
   "metadata": {},
   "outputs": [],
   "source": [
    "train_x = train_x / 255\n"
   ]
  },
  {
   "cell_type": "code",
   "execution_count": 20,
   "metadata": {},
   "outputs": [
    {
     "name": "stderr",
     "output_type": "stream",
     "text": [
      "/Users/payalchodha/anaconda3/lib/python3.7/site-packages/ipykernel_launcher.py:4: DeprecationWarning: `imread` is deprecated!\n",
      "`imread` is deprecated in SciPy 1.0.0, and will be removed in 1.2.0.\n",
      "Use ``imageio.imread`` instead.\n",
      "  after removing the cwd from sys.path.\n",
      "/Users/payalchodha/anaconda3/lib/python3.7/site-packages/ipykernel_launcher.py:5: DeprecationWarning: `imresize` is deprecated!\n",
      "`imresize` is deprecated in SciPy 1.0.0, and will be removed in 1.2.0.\n",
      "Use ``skimage.transform.resize`` instead.\n",
      "  \"\"\"\n"
     ]
    }
   ],
   "source": [
    "temp = []\n",
    "for img_name in test.ID:\n",
    "    img_path = os.path.join(data_dir_test, 'Test', img_name)\n",
    "    img = imread(img_path,mode='L')\n",
    "    img = imresize(img, (64, 64))\n",
    "    temp.append(img.astype('float32'))\n",
    "\n",
    "test_x = np.stack(temp)"
   ]
  },
  {
   "cell_type": "code",
   "execution_count": 21,
   "metadata": {},
   "outputs": [],
   "source": [
    "test_x = test_x/255"
   ]
  },
  {
   "cell_type": "code",
   "execution_count": 9,
   "metadata": {},
   "outputs": [],
   "source": [
    "import tensorflow.keras\n",
    "from sklearn.preprocessing import LabelEncoder\n",
    "from tensorflow.python.keras import utils\n",
    "from tensorflow.python.keras.utils import np_utils\n",
    "lb = LabelEncoder()\n",
    "train_y = lb.fit_transform(train.Class)\n",
    "train_y = np_utils.to_categorical(train_y)\n",
    "# train_y = utils.to_categorical(train_y,3)\n",
    "# train_y"
   ]
  },
  {
   "cell_type": "code",
   "execution_count": 15,
   "metadata": {},
   "outputs": [],
   "source": [
    "input_num_units = (64, 64, 1)\n",
    "hidden_num_units = 500\n",
    "output_num_units = 3\n",
    "\n",
    "epochs =20\n",
    "batch_size = 128"
   ]
  },
  {
   "cell_type": "code",
   "execution_count": 19,
   "metadata": {},
   "outputs": [],
   "source": [
    "train_x= train_x.reshape(train_x.shape[0],64,64,1)"
   ]
  },
  {
   "cell_type": "code",
   "execution_count": 20,
   "metadata": {},
   "outputs": [],
   "source": [
    "test_x= test_x.reshape(test_x.shape[0],64,64,1)"
   ]
  },
  {
   "cell_type": "markdown",
   "metadata": {},
   "source": [
    "# Convolutional model"
   ]
  },
  {
   "cell_type": "code",
   "execution_count": 210,
   "metadata": {},
   "outputs": [
    {
     "data": {
      "text/plain": [
       "numpy.ndarray"
      ]
     },
     "execution_count": 210,
     "metadata": {},
     "output_type": "execute_result"
    }
   ],
   "source": [
    "type(train_x)"
   ]
  },
  {
   "cell_type": "code",
   "execution_count": 222,
   "metadata": {},
   "outputs": [
    {
     "data": {
      "text/plain": [
       "MIDDLE    10804\n",
       "YOUNG      6706\n",
       "OLD        2396\n",
       "Name: Class, dtype: int64"
      ]
     },
     "execution_count": 222,
     "metadata": {},
     "output_type": "execute_result"
    }
   ],
   "source": [
    "train.Class.value_counts()"
   ]
  },
  {
   "cell_type": "code",
   "execution_count": 212,
   "metadata": {},
   "outputs": [],
   "source": [
    "# Instantiate a CNN.\n",
    "cnn_model = Sequential()"
   ]
  },
  {
   "cell_type": "code",
   "execution_count": 213,
   "metadata": {},
   "outputs": [],
   "source": [
    "# Add a convolutional layer.\n",
    "\n",
    "cnn_model.add( Conv2D(filters = 32, # number of filters\n",
    "               kernel_size = (3,3),# height/width of filter\n",
    "               activation='relu', # activation function \n",
    "              input_shape=(64,64,1))) # shape of input (image)\n",
    "cnn_model.add(MaxPooling2D(pool_size = (2, 2))) # dimensions of region of pooling # dimensions of region of pooling\n",
    "# cnn_model.add(Dropout(rate=0.5))\n",
    "cnn_model.add(Conv2D(filters = 64,\n",
    "                     kernel_size=(3,3),\n",
    "                     activation='relu')) \n",
    "\n",
    "cnn_model.add(MaxPooling2D(pool_size=(2,2)))\n",
    "# cnn_model.add(Dropout(rate=0.5))\n",
    "cnn_model.add(Flatten(input_shape = (64,64,1)))\n",
    "# Add a densely-connected layer with 128 neurons.\n",
    "cnn_model.add(Dense(512,activation='relu'))\n",
    "cnn_model.add(Dropout(rate=0.5))\n",
    "cnn_model.add(Dense(128,activation='relu'))\n",
    "cnn_model.add(Dropout(rate=0.5))\n",
    "# Add a final layer with 3 neurons.\n",
    "cnn_model.add(Dense(3,activation='softmax'))"
   ]
  },
  {
   "cell_type": "code",
   "execution_count": 214,
   "metadata": {},
   "outputs": [],
   "source": [
    "# Compile model\n",
    "cnn_model.compile(loss='categorical_crossentropy',\n",
    "                  optimizer='adam',\n",
    "                  metrics=['accuracy'])"
   ]
  },
  {
   "cell_type": "code",
   "execution_count": 233,
   "metadata": {},
   "outputs": [
    {
     "name": "stdout",
     "output_type": "stream",
     "text": [
      "Train on 15924 samples, validate on 3982 samples\n",
      "Epoch 1/20\n",
      "15924/15924 [==============================] - 101s 6ms/sample - loss: 0.1123 - accuracy: 0.9605 - val_loss: 1.0862 - val_accuracy: 0.7486\n",
      "Epoch 2/20\n",
      "15924/15924 [==============================] - 86s 5ms/sample - loss: 0.0960 - accuracy: 0.9664 - val_loss: 1.2217 - val_accuracy: 0.7501\n",
      "Epoch 3/20\n",
      "15924/15924 [==============================] - 83s 5ms/sample - loss: 0.0892 - accuracy: 0.9689 - val_loss: 1.1084 - val_accuracy: 0.7516\n",
      "Epoch 4/20\n",
      "15924/15924 [==============================] - 81s 5ms/sample - loss: 0.0823 - accuracy: 0.9712 - val_loss: 1.1568 - val_accuracy: 0.7564\n",
      "Epoch 5/20\n",
      "15924/15924 [==============================] - 81s 5ms/sample - loss: 0.0814 - accuracy: 0.9702 - val_loss: 1.2048 - val_accuracy: 0.7544\n",
      "Epoch 6/20\n",
      "15924/15924 [==============================] - 84s 5ms/sample - loss: 0.0784 - accuracy: 0.9730 - val_loss: 1.1821 - val_accuracy: 0.7459\n",
      "Epoch 7/20\n",
      "15924/15924 [==============================] - 80s 5ms/sample - loss: 0.0692 - accuracy: 0.9760 - val_loss: 1.2078 - val_accuracy: 0.7531\n",
      "Epoch 8/20\n",
      "15924/15924 [==============================] - 80s 5ms/sample - loss: 0.0691 - accuracy: 0.9768 - val_loss: 1.3041 - val_accuracy: 0.7504\n",
      "Epoch 9/20\n",
      "15924/15924 [==============================] - 90s 6ms/sample - loss: 0.0653 - accuracy: 0.9778 - val_loss: 1.3116 - val_accuracy: 0.7451\n",
      "Epoch 10/20\n",
      "15924/15924 [==============================] - 100s 6ms/sample - loss: 0.0616 - accuracy: 0.9786 - val_loss: 1.3076 - val_accuracy: 0.7541\n",
      "Epoch 11/20\n",
      "15924/15924 [==============================] - 91s 6ms/sample - loss: 0.0596 - accuracy: 0.9797 - val_loss: 1.3608 - val_accuracy: 0.7536\n",
      "Epoch 12/20\n",
      "15924/15924 [==============================] - 90s 6ms/sample - loss: 0.0591 - accuracy: 0.9793 - val_loss: 1.2815 - val_accuracy: 0.7449\n",
      "Epoch 13/20\n",
      "15924/15924 [==============================] - 103s 6ms/sample - loss: 0.0551 - accuracy: 0.9822 - val_loss: 1.3737 - val_accuracy: 0.7521\n",
      "Epoch 14/20\n",
      "15924/15924 [==============================] - 120s 8ms/sample - loss: 0.0502 - accuracy: 0.9827 - val_loss: 1.4224 - val_accuracy: 0.7481\n",
      "Epoch 15/20\n",
      "15924/15924 [==============================] - 101s 6ms/sample - loss: 0.0540 - accuracy: 0.9810 - val_loss: 1.4066 - val_accuracy: 0.7456\n",
      "Epoch 16/20\n",
      "15924/15924 [==============================] - 88s 6ms/sample - loss: 0.0498 - accuracy: 0.9812 - val_loss: 1.4154 - val_accuracy: 0.7499\n",
      "Epoch 17/20\n",
      "15924/15924 [==============================] - 92s 6ms/sample - loss: 0.0504 - accuracy: 0.9835 - val_loss: 1.3871 - val_accuracy: 0.7559\n",
      "Epoch 18/20\n",
      "15924/15924 [==============================] - 90s 6ms/sample - loss: 0.0505 - accuracy: 0.9833 - val_loss: 1.4070 - val_accuracy: 0.7476\n",
      "Epoch 19/20\n",
      "15924/15924 [==============================] - 88s 6ms/sample - loss: 0.0468 - accuracy: 0.9840 - val_loss: 1.4985 - val_accuracy: 0.7438\n",
      "Epoch 20/20\n",
      "15924/15924 [==============================] - 91s 6ms/sample - loss: 0.0504 - accuracy: 0.9829 - val_loss: 1.5641 - val_accuracy: 0.7330\n"
     ]
    }
   ],
   "source": [
    "# Fit Convolutional model on training data with class weights\n",
    "history_cnn = cnn_model.fit(train_x, train_y, batch_size=batch_size,epochs=epochs,verbose=1,class_weight=class_weights, validation_split=0.33)"
   ]
  },
  {
   "cell_type": "code",
   "execution_count": 226,
   "metadata": {},
   "outputs": [],
   "source": [
    "# using class-weights to fix the issue of unbalance classes\n",
    "from sklearn.utils import class_weight\n",
    "\n",
    "y_ints = [y.argmax() for y in train_y]\n",
    "\n",
    "\n",
    "\n",
    "class_weights = class_weight.compute_class_weight('balanced',\n",
    "                                                 np.unique(y_ints),\n",
    "                                                 y_ints)\n",
    "\n",
    "class_weight_dict = dict(enumerate(class_weights))\n",
    "\n",
    "class_weight_dict"
   ]
  },
  {
   "cell_type": "code",
   "execution_count": 244,
   "metadata": {},
   "outputs": [
    {
     "name": "stderr",
     "output_type": "stream",
     "text": [
      "/Users/payalchodha/anaconda3/lib/python3.7/site-packages/ipykernel_launcher.py:4: DeprecationWarning: `imread` is deprecated!\n",
      "`imread` is deprecated in SciPy 1.0.0, and will be removed in 1.2.0.\n",
      "Use ``imageio.imread`` instead.\n",
      "  after removing the cwd from sys.path.\n",
      "/Users/payalchodha/anaconda3/lib/python3.7/site-packages/ipykernel_launcher.py:5: DeprecationWarning: `imresize` is deprecated!\n",
      "`imresize` is deprecated in SciPy 1.0.0, and will be removed in 1.2.0.\n",
      "Use ``skimage.transform.resize`` instead.\n",
      "  \"\"\"\n"
     ]
    },
    {
     "data": {
      "image/png": "[encoded data removed]",
      "text/plain": [
       "<Figure size 432x288 with 1 Axes>"
      ]
     },
     "metadata": {
      "needs_background": "light"
     },
     "output_type": "display_data"
    },
    {
     "name": "stdout",
     "output_type": "stream",
     "text": [
      "Predicted: YOUNG\n"
     ]
    }
   ],
   "source": [
    "i = random.choice(test.index)\n",
    "img_name = test.ID[i]\n",
    "\n",
    "img = imread(os.path.join(data_dir_test, 'Test', img_name)).astype('float32')\n",
    "img =imresize(img, (128, 128))\n",
    "imgplot = plt.imshow(img)\n",
    "plt.show()\n",
    "# //imshow(imresize(img, (128, 128)))\n",
    "preds = cnn_model.predict_classes(test_x)\n",
    "preds = lb.inverse_transform(preds)\n",
    "print(f'Predicted: {preds[i]}')"
   ]
  },
  {
   "cell_type": "code",
   "execution_count": null,
   "metadata": {},
   "outputs": [],
   "source": []
  }
 ],
 "metadata": {
  "kernelspec": {
   "display_name": "Python 3",
   "language": "python",
   "name": "python3"
  },
  "language_info": {
   "codemirror_mode": {
    "name": "ipython",
    "version": 3
   },
   "file_extension": ".py",
   "mimetype": "text/x-python",
   "name": "python",
   "nbconvert_exporter": "python",
   "pygments_lexer": "ipython3",
   "version": "3.7.3"
  }
 },
 "nbformat": 4,
 "nbformat_minor": 2
}
