{
 "cells": [
  {
   "cell_type": "code",
   "execution_count": 1,
   "metadata": {},
   "outputs": [],
   "source": [
    "# importing all the required libraries\n",
    "from PIL import Image #importing the python image library for PIL\n",
    "import os,cv2\n",
    "import random\n",
    "import numpy as np\n",
    "import pandas as pd\n",
    "import matplotlib.pyplot as plt\n",
    "\n",
    "\n",
    "from sklearn.model_selection import train_test_split\n",
    "from sklearn.preprocessing import LabelEncoder\n",
    "\n",
    "import tensorflow.keras\n",
    "from tensorflow.python.keras import utils\n",
    "from tensorflow.python.keras.utils import np_utils\n",
    "from tensorflow.keras.preprocessing.image import ImageDataGenerator, array_to_img, img_to_array, load_img\n",
    "from tensorflow.keras.models import Sequential\n",
    "from tensorflow.keras.optimizers import Adam\n",
    "from tensorflow.python.keras.layers import Dense, Dropout, Flatten, Conv2D, MaxPooling2D,InputLayer\n",
    "\n",
    "from scipy import misc \n",
    "from scipy.misc import imresize\n",
    "from scipy.misc import imread\n"
   ]
  },
  {
   "cell_type": "code",
   "execution_count": 2,
   "metadata": {},
   "outputs": [],
   "source": [
    "# Setting the directory path and loading the data from the train and test files\n",
    "root_dir = os.path.abspath('.')\n",
    "data_dir_test = './datasets/misctest'\n",
    "data_dir = './datasets/misctrain'\n",
    "train = pd.read_csv(os.path.join(data_dir, 'train.csv'))\n",
    "test = pd.read_csv(os.path.join(data_dir_test, 'test.csv'))"
   ]
  },
  {
   "cell_type": "code",
   "execution_count": 4,
   "metadata": {},
   "outputs": [],
   "source": [
    "# Setting X(feature) and target y for my model\n",
    "X  = train.drop(columns ='Class' )\n",
    "y = train.Class"
   ]
  },
  {
   "cell_type": "code",
   "execution_count": 5,
   "metadata": {},
   "outputs": [],
   "source": [
    "# converting the target variable y to categorical one\n",
    "lb = LabelEncoder()\n",
    "y = lb.fit_transform(train.Class)\n",
    "y = np_utils.to_categorical(y)"
   ]
  },
  {
   "cell_type": "code",
   "execution_count": 6,
   "metadata": {},
   "outputs": [],
   "source": [
    "# performing train and test split for X and y \n",
    "#used stratify as I have pretty unbalanced classes\n",
    "X_train,X_test,y_train,y_test = train_test_split(X,y,random_state=42,stratify=y)"
   ]
  },
  {
   "cell_type": "code",
   "execution_count": 7,
   "metadata": {},
   "outputs": [
    {
     "data": {
      "text/plain": [
       "(14929, 1)"
      ]
     },
     "execution_count": 7,
     "metadata": {},
     "output_type": "execute_result"
    }
   ],
   "source": [
    "#checking teh shape after split\n",
    "X_train.shape"
   ]
  },
  {
   "cell_type": "code",
   "execution_count": 8,
   "metadata": {},
   "outputs": [
    {
     "name": "stderr",
     "output_type": "stream",
     "text": [
      "/Users/payalchodha/anaconda3/lib/python3.7/site-packages/ipykernel_launcher.py:7: DeprecationWarning: `imread` is deprecated!\n",
      "`imread` is deprecated in SciPy 1.0.0, and will be removed in 1.2.0.\n",
      "Use ``imageio.imread`` instead.\n",
      "  import sys\n",
      "/Users/payalchodha/anaconda3/lib/python3.7/site-packages/ipykernel_launcher.py:8: DeprecationWarning: `imresize` is deprecated!\n",
      "`imresize` is deprecated in SciPy 1.0.0, and will be removed in 1.2.0.\n",
      "Use ``skimage.transform.resize`` instead.\n",
      "  \n"
     ]
    }
   ],
   "source": [
    "#preprocessing for train\n",
    "temp = []\n",
    "for img_name in X_train.ID:\n",
    "    img_path = os.path.join(data_dir, 'Train', img_name)\n",
    "    img = imread(img_path,mode='L')\n",
    "    img = imresize(img, (100, 100))\n",
    "    img = img.astype('float32') # this will help us in later stage\n",
    "    temp.append(img)\n",
    "\n",
    "X_train = np.stack(temp)"
   ]
  },
  {
   "cell_type": "code",
   "execution_count": 9,
   "metadata": {},
   "outputs": [
    {
     "name": "stderr",
     "output_type": "stream",
     "text": [
      "/Users/payalchodha/anaconda3/lib/python3.7/site-packages/ipykernel_launcher.py:7: DeprecationWarning: `imread` is deprecated!\n",
      "`imread` is deprecated in SciPy 1.0.0, and will be removed in 1.2.0.\n",
      "Use ``imageio.imread`` instead.\n",
      "  import sys\n",
      "/Users/payalchodha/anaconda3/lib/python3.7/site-packages/ipykernel_launcher.py:8: DeprecationWarning: `imresize` is deprecated!\n",
      "`imresize` is deprecated in SciPy 1.0.0, and will be removed in 1.2.0.\n",
      "Use ``skimage.transform.resize`` instead.\n",
      "  \n"
     ]
    }
   ],
   "source": [
    "#preprocessing for validation data\n",
    "temp = []\n",
    "for img_name in X_test.ID:\n",
    "    img_path = os.path.join(data_dir, 'Train', img_name)\n",
    "    img = imread(img_path,mode='L')\n",
    "    img = imresize(img, (100, 100))\n",
    "    img = img.astype('float32') # this will help us in later stage\n",
    "    temp.append(img)\n",
    "\n",
    "X_test = np.stack(temp)\n"
   ]
  },
  {
   "cell_type": "code",
   "execution_count": 10,
   "metadata": {},
   "outputs": [],
   "source": [
    "#dividing the X_train and X_test by 255\n",
    "X_train = X_train / 255\n",
    "X_test = X_test/255"
   ]
  },
  {
   "cell_type": "code",
   "execution_count": 12,
   "metadata": {},
   "outputs": [],
   "source": [
    "# Reshaping X_train and X_test to (100,100)\n",
    "X_train= X_train.reshape(X_train.shape[0],100,100,1)\n",
    "X_test= X_test.reshape(X_test.shape[0],100,100,1)"
   ]
  },
  {
   "cell_type": "code",
   "execution_count": 21,
   "metadata": {},
   "outputs": [],
   "source": [
    "#setting variables for modelling\n",
    "input_num_units = (100, 100, 1)\n",
    "hidden_num_units = 500\n",
    "output_num_units = 3\n",
    "\n",
    "epochs =20\n",
    "batch_size = 128"
   ]
  },
  {
   "cell_type": "code",
   "execution_count": 37,
   "metadata": {},
   "outputs": [],
   "source": [
    "#Defining the model (a normal sequential one)\n",
    "model = Sequential([\n",
    "  InputLayer(input_shape=input_num_units),\n",
    "  Flatten(),\n",
    "  Dense(units=hidden_num_units, activation='relu'),\n",
    " \n",
    "  Dense(256, activation='relu'),\n",
    "    \n",
    " # output layer\n",
    "  Dense(units=output_num_units, activation='softmax'),\n",
    "])"
   ]
  },
  {
   "cell_type": "code",
   "execution_count": 38,
   "metadata": {},
   "outputs": [],
   "source": [
    "#compiling the model\n",
    "model.compile(optimizer=Adam(lr=0.0001), loss='categorical_crossentropy', metrics=['accuracy'])\n"
   ]
  },
  {
   "cell_type": "code",
   "execution_count": 39,
   "metadata": {},
   "outputs": [
    {
     "name": "stdout",
     "output_type": "stream",
     "text": [
      "Train on 14929 samples, validate on 4977 samples\n",
      "Epoch 1/20\n",
      "14929/14929 [==============================] - 10s 677us/sample - loss: 0.9178 - accuracy: 0.5692 - val_loss: 0.8617 - val_accuracy: 0.5929\n",
      "Epoch 2/20\n",
      "14929/14929 [==============================] - 10s 690us/sample - loss: 0.8469 - accuracy: 0.6015 - val_loss: 0.8446 - val_accuracy: 0.6014\n",
      "Epoch 3/20\n",
      "14929/14929 [==============================] - 12s 775us/sample - loss: 0.8337 - accuracy: 0.6039 - val_loss: 0.8412 - val_accuracy: 0.6046\n",
      "Epoch 4/20\n",
      "14929/14929 [==============================] - 10s 689us/sample - loss: 0.8239 - accuracy: 0.6087 - val_loss: 0.8349 - val_accuracy: 0.6060\n",
      "Epoch 5/20\n",
      "14929/14929 [==============================] - 12s 824us/sample - loss: 0.8171 - accuracy: 0.6148 - val_loss: 0.8353 - val_accuracy: 0.6092\n",
      "Epoch 6/20\n",
      "14929/14929 [==============================] - 13s 902us/sample - loss: 0.8092 - accuracy: 0.6195 - val_loss: 0.8382 - val_accuracy: 0.6160\n",
      "Epoch 7/20\n",
      "14929/14929 [==============================] - 13s 878us/sample - loss: 0.8093 - accuracy: 0.6191 - val_loss: 0.8245 - val_accuracy: 0.6219\n",
      "Epoch 8/20\n",
      "14929/14929 [==============================] - 12s 789us/sample - loss: 0.7934 - accuracy: 0.6327 - val_loss: 0.8242 - val_accuracy: 0.6114\n",
      "Epoch 9/20\n",
      "14929/14929 [==============================] - 10s 642us/sample - loss: 0.7824 - accuracy: 0.6398 - val_loss: 0.8288 - val_accuracy: 0.6110\n",
      "Epoch 10/20\n",
      "14929/14929 [==============================] - 11s 712us/sample - loss: 0.7790 - accuracy: 0.6402 - val_loss: 0.8145 - val_accuracy: 0.6267\n",
      "Epoch 11/20\n",
      "14929/14929 [==============================] - 10s 674us/sample - loss: 0.7752 - accuracy: 0.6457 - val_loss: 0.8074 - val_accuracy: 0.6253\n",
      "Epoch 12/20\n",
      "14929/14929 [==============================] - 12s 782us/sample - loss: 0.7675 - accuracy: 0.6473 - val_loss: 0.8303 - val_accuracy: 0.6128\n",
      "Epoch 13/20\n",
      "14929/14929 [==============================] - 11s 707us/sample - loss: 0.7662 - accuracy: 0.6448 - val_loss: 0.7954 - val_accuracy: 0.6464\n",
      "Epoch 14/20\n",
      "14929/14929 [==============================] - 12s 776us/sample - loss: 0.7556 - accuracy: 0.6560 - val_loss: 0.7989 - val_accuracy: 0.6317\n",
      "Epoch 15/20\n",
      "14929/14929 [==============================] - 11s 714us/sample - loss: 0.7522 - accuracy: 0.6541 - val_loss: 0.8025 - val_accuracy: 0.6373\n",
      "Epoch 16/20\n",
      "14929/14929 [==============================] - 10s 678us/sample - loss: 0.7486 - accuracy: 0.6569 - val_loss: 0.7970 - val_accuracy: 0.6281\n",
      "Epoch 17/20\n",
      "14929/14929 [==============================] - 10s 638us/sample - loss: 0.7412 - accuracy: 0.6652 - val_loss: 0.7865 - val_accuracy: 0.6450\n",
      "Epoch 18/20\n",
      "14929/14929 [==============================] - 9s 596us/sample - loss: 0.7343 - accuracy: 0.6680 - val_loss: 0.7924 - val_accuracy: 0.6446\n",
      "Epoch 19/20\n",
      "14929/14929 [==============================] - 9s 583us/sample - loss: 0.7364 - accuracy: 0.6651 - val_loss: 0.7852 - val_accuracy: 0.6436\n",
      "Epoch 20/20\n",
      "14929/14929 [==============================] - 10s 655us/sample - loss: 0.7196 - accuracy: 0.6775 - val_loss: 0.7808 - val_accuracy: 0.6438\n"
     ]
    }
   ],
   "source": [
    "#Fitting the model\n",
    "history = model.fit(X_train, y_train, batch_size=batch_size,epochs=epochs,verbose=1, validation_data=(X_test,y_test))"
   ]
  },
  {
   "cell_type": "code",
   "execution_count": null,
   "metadata": {},
   "outputs": [],
   "source": [
    "# Check out our train loss and test loss over epochs.\n",
    "train_loss = history.history['loss']\n",
    "test_loss = history.history['val_loss']\n",
    "\n",
    "# Set figure size.\n",
    "plt.figure(figsize=(12, 8))\n",
    "\n",
    "# Generate line plot of training, testing loss over epochs.\n",
    "plt.plot(train_loss, label='Training Loss', color='#185fad')\n",
    "plt.plot(test_loss, label='Testing Loss', color='orange')\n",
    "\n",
    "# Set title\n",
    "plt.title('Training and Testing Loss by Epoch', fontsize = 25)\n",
    "plt.xlabel('Epoch', fontsize = 18)\n",
    "plt.ylabel('Categorical Crossentropy', fontsize = 18)\n",
    "\n",
    "\n",
    "plt.legend(fontsize = 18);"
   ]
  },
  {
   "cell_type": "code",
   "execution_count": 40,
   "metadata": {},
   "outputs": [],
   "source": [
    "#evaluating the model on validation data\n",
    "score = model.evaluate(X_test,\n",
    "                               y_test,\n",
    "                               verbose=0)\n",
    "labels = model.metrics_names"
   ]
  },
  {
   "cell_type": "code",
   "execution_count": 41,
   "metadata": {},
   "outputs": [
    {
     "data": {
      "text/plain": [
       "0.6437613"
      ]
     },
     "execution_count": 41,
     "metadata": {},
     "output_type": "execute_result"
    }
   ],
   "source": [
    "score[1]"
   ]
  },
  {
   "cell_type": "code",
   "execution_count": 42,
   "metadata": {},
   "outputs": [
    {
     "name": "stderr",
     "output_type": "stream",
     "text": [
      "/Users/payalchodha/anaconda3/lib/python3.7/site-packages/ipykernel_launcher.py:4: DeprecationWarning: `imread` is deprecated!\n",
      "`imread` is deprecated in SciPy 1.0.0, and will be removed in 1.2.0.\n",
      "Use ``imageio.imread`` instead.\n",
      "  after removing the cwd from sys.path.\n",
      "/Users/payalchodha/anaconda3/lib/python3.7/site-packages/ipykernel_launcher.py:5: DeprecationWarning: `imresize` is deprecated!\n",
      "`imresize` is deprecated in SciPy 1.0.0, and will be removed in 1.2.0.\n",
      "Use ``skimage.transform.resize`` instead.\n",
      "  \"\"\"\n"
     ]
    }
   ],
   "source": [
    "#performing preprocessing on test data\n",
    "temp = []\n",
    "for img_name in test.ID:\n",
    "    img_path = os.path.join(data_dir_test, 'Test', img_name)\n",
    "    img = imread(img_path,mode='L')\n",
    "    img = imresize(img, (100, 100))\n",
    "    temp.append(img.astype('float32'))\n",
    "\n",
    "test_x = np.stack(temp)"
   ]
  },
  {
   "cell_type": "code",
   "execution_count": 43,
   "metadata": {},
   "outputs": [],
   "source": [
    "#reshaping the test data\n",
    "test_x= test_x.reshape(test_x.shape[0],100,100,1)"
   ]
  },
  {
   "cell_type": "code",
   "execution_count": 51,
   "metadata": {},
   "outputs": [
    {
     "name": "stderr",
     "output_type": "stream",
     "text": [
      "/Users/payalchodha/anaconda3/lib/python3.7/site-packages/ipykernel_launcher.py:4: DeprecationWarning: `imread` is deprecated!\n",
      "`imread` is deprecated in SciPy 1.0.0, and will be removed in 1.2.0.\n",
      "Use ``imageio.imread`` instead.\n",
      "  after removing the cwd from sys.path.\n",
      "/Users/payalchodha/anaconda3/lib/python3.7/site-packages/ipykernel_launcher.py:5: DeprecationWarning: `imresize` is deprecated!\n",
      "`imresize` is deprecated in SciPy 1.0.0, and will be removed in 1.2.0.\n",
      "Use ``skimage.transform.resize`` instead.\n",
      "  \"\"\"\n"
     ]
    },
    {
     "data": {
      "image/png": "[encoded data removed]",
      "text/plain": [
       "<Figure size 432x288 with 1 Axes>"
      ]
     },
     "metadata": {
      "needs_background": "light"
     },
     "output_type": "display_data"
    },
    {
     "name": "stdout",
     "output_type": "stream",
     "text": [
      "Predicted: YOUNG\n"
     ]
    }
   ],
   "source": [
    "# Checking the age prediction for test on randomly selected image\n",
    "i = random.choice(test.index)\n",
    "img_name = test.ID[i]\n",
    "\n",
    "img = imread(os.path.join(data_dir_test, 'Test', img_name)).astype('float32')\n",
    "img =imresize(img, (128, 128))\n",
    "imgplot = plt.imshow(img)\n",
    "plt.show()\n",
    "# //imshow(imresize(img, (128, 128)))\n",
    "pred = model.predict_classes(test_x)\n",
    "pred = lb.inverse_transform(pred)\n",
    "print(f'Predicted: {pred[i]}')\n"
   ]
  },
  {
   "cell_type": "code",
   "execution_count": null,
   "metadata": {},
   "outputs": [],
   "source": []
  }
 ],
 "metadata": {
  "kernelspec": {
   "display_name": "Python 3",
   "language": "python",
   "name": "python3"
  },
  "language_info": {
   "codemirror_mode": {
    "name": "ipython",
    "version": 3
   },
   "file_extension": ".py",
   "mimetype": "text/x-python",
   "name": "python",
   "nbconvert_exporter": "python",
   "pygments_lexer": "ipython3",
   "version": "3.7.3"
  }
 },
 "nbformat": 4,
 "nbformat_minor": 2
}
